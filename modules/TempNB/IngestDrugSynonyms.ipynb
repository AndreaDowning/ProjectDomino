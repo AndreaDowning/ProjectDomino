{
 "cells": [
  {
   "cell_type": "code",
   "execution_count": 9,
   "metadata": {},
   "outputs": [],
   "source": [
    "from IngestDrugSynonyms import IngestDrugSynonyms\n",
    "from DrugSynonymDataToNeo4j import DrugSynonymDataToNeo4j"
   ]
  },
  {
   "cell_type": "code",
   "execution_count": 10,
   "metadata": {},
   "outputs": [],
   "source": [
    "import pandas as pd\n",
    "import timeit"
   ]
  },
  {
   "cell_type": "code",
   "execution_count": 11,
   "metadata": {},
   "outputs": [
    {
     "name": "stdout",
     "output_type": "stream",
     "text": [
      "The autoreload extension is already loaded. To reload it, use:\n",
      "  %reload_ext autoreload\n"
     ]
    }
   ],
   "source": [
    "%load_ext autoreload\n",
    "%autoreload 2"
   ]
  },
  {
   "cell_type": "code",
   "execution_count": 12,
   "metadata": {},
   "outputs": [
    {
     "data": {
      "text/html": [
       "<style>.container { width:100% !important; }</style>"
      ],
      "text/plain": [
       "<IPython.core.display.HTML object>"
      ]
     },
     "metadata": {},
     "output_type": "display_data"
    },
    {
     "name": "stderr",
     "output_type": "stream",
     "text": [
      "/home/ben/Projects/Graphs4GoodHackathon/ProjectDomino/.Domino/lib/python3.7/site-packages/ipykernel_launcher.py:3: FutureWarning: Passing a negative integer is deprecated in version 1.0 and will not be supported in future version. Instead, use None to not limit the column width.\n",
      "  This is separate from the ipykernel package so we can avoid doing imports until\n"
     ]
    }
   ],
   "source": [
    "from IPython.core.display import display, HTML\n",
    "display(HTML(\"<style>.container { width:100% !important; }</style>\"))\n",
    "pd.set_option('display.max_colwidth', -1)\n",
    "pd.set_option('display.max_columns', 500)\n",
    "pd.set_option('display.width', 1000)"
   ]
  },
  {
   "cell_type": "code",
   "execution_count": 13,
   "metadata": {},
   "outputs": [
    {
     "name": "stderr",
     "output_type": "stream",
     "text": [
      "2020-04-10 19:26:18,043 - > STARTING scraping with 'covid-19' keyword\n",
      "2020-04-10 19:26:23,858 - > 427 studies found by 'covid-19' keyword\n",
      "2020-04-10 19:26:49,102 - > STARTING scraping with 'SARS-CoV-2' keyword\n",
      "2020-04-10 19:27:08,173 - > 427 studies found by 'SARS-CoV-2' keyword\n",
      "2020-04-10 19:27:38,606 - > STARTING scraping with 'coronavirus' keyword\n",
      "2020-04-10 19:27:43,681 - > 346 studies found by 'coronavirus' keyword\n",
      "2020-04-10 19:28:09,761 - > 1076 distinct studies found\n",
      "2020-04-10 19:28:12,701 - > 2145 drug & synonym to study connections found\n"
     ]
    }
   ],
   "source": [
    "drugSynonym = IngestDrugSynonyms()\n",
    "drugSynonym.auto_get_and_clean_data()\n",
    "drugSynonym.create_drug_study_links()\n",
    "drugSynonym.create_url_study_links()\n",
    "\n"
   ]
  },
  {
   "cell_type": "code",
   "execution_count": null,
   "metadata": {},
   "outputs": [],
   "source": [
    "neo4jBridge = DrugSynonymDataToNeo4j()\n",
    "neo4jBridge.merge_drugs_synonyms_and_link_between(drugSynonym.drug_vocab)\n",
    "neo4jBridge.merge_studies(drugSynonym.all_studies_df)"
   ]
  },
  {
   "cell_type": "code",
   "execution_count": null,
   "metadata": {},
   "outputs": [],
   "source": [
    "neo4jBridge.merge_drug_to_study_rels(drugSynonym.appeared_in_edges)"
   ]
  },
  {
   "cell_type": "code",
   "execution_count": null,
   "metadata": {},
   "outputs": [],
   "source": [
    "neo4jBridge.merge_url(list(drugSynonym.all_studies_df[\"study_url\"]))"
   ]
  },
  {
   "cell_type": "code",
   "execution_count": null,
   "metadata": {},
   "outputs": [],
   "source": [
    "neo4jBridge.merge_url_to_study_rels(drugSynonym.url_points_at_study_edges)"
   ]
  },
  {
   "cell_type": "code",
   "execution_count": null,
   "metadata": {},
   "outputs": [],
   "source": [
    "neo4jBridge.drug_or_synonym_name_and_neo4j_id_pairs[\"Sargramostim\"]"
   ]
  },
  {
   "cell_type": "code",
   "execution_count": null,
   "metadata": {},
   "outputs": [],
   "source": [
    "list(map(lambda x: x.lower().strip(),[\" A\",\"B \",\"C\"]))"
   ]
  },
  {
   "cell_type": "code",
   "execution_count": null,
   "metadata": {},
   "outputs": [],
   "source": [
    "drugSynonym._filterData()"
   ]
  },
  {
   "cell_type": "code",
   "execution_count": null,
   "metadata": {},
   "outputs": [],
   "source": [
    "temp = [\" A\",\"B \",\"C\"]\n",
    "row = \"a\"\n",
    "\n"
   ]
  },
  {
   "cell_type": "code",
   "execution_count": null,
   "metadata": {},
   "outputs": [],
   "source": [
    "list(map(lambda x: x.lower().strip(),temp))"
   ]
  },
  {
   "cell_type": "code",
   "execution_count": null,
   "metadata": {},
   "outputs": [],
   "source": [
    "list(filter(lambda x: x is not None,list(map(lambda x: x.lower().strip() if x.lower().strip() != row['Common name'].lower().strip() else None,row[\"Synonyms\"].split(\"|\")) if isinstance(row[\"Synonyms\"],str) else row[\"Synonyms\"])\n"
   ]
  },
  {
   "cell_type": "code",
   "execution_count": null,
   "metadata": {},
   "outputs": [],
   "source": [
    "list(filter(lambda x: x is not None,list(map(lambda x: x.lower().strip() if x.lower().strip() != row.lower().strip() else None,temp) ) ))"
   ]
  },
  {
   "cell_type": "code",
   "execution_count": null,
   "metadata": {},
   "outputs": [],
   "source": [
    "drugSynonym.drug_vocab.keys()"
   ]
  },
  {
   "cell_type": "code",
   "execution_count": 14,
   "metadata": {},
   "outputs": [
    {
     "data": {
      "text/plain": [
       "['(2s)-2-amino-4-methylpentanoic acid',\n",
       " '(2s)-alpha-2-amino-4-methylvaleric acid',\n",
       " '(2s)-alpha-leucine',\n",
       " '(s)-(+)-leucine',\n",
       " '(s)-leucine',\n",
       " '2-amino-4-methylvaleric acid',\n",
       " 'l-leucin',\n",
       " 'l-leucine',\n",
       " 'l-leuzin',\n",
       " 'leu']"
      ]
     },
     "execution_count": 14,
     "metadata": {},
     "output_type": "execute_result"
    }
   ],
   "source": [
    "drugSynonym.drug_vocab[\"leucine\"]"
   ]
  },
  {
   "cell_type": "code",
   "execution_count": 15,
   "metadata": {},
   "outputs": [
    {
     "name": "stderr",
     "output_type": "stream",
     "text": [
      "2020-04-10 19:32:45,661 - Only Use it for debug purposes!!!\n"
     ]
    }
   ],
   "source": [
    "drugSynonym.save_data_to_file()"
   ]
  },
  {
   "cell_type": "markdown",
   "metadata": {},
   "source": []
  },
  {
   "cell_type": "code",
   "execution_count": 16,
   "metadata": {},
   "outputs": [],
   "source": [
    "self = drugSynonym"
   ]
  },
  {
   "cell_type": "code",
   "execution_count": 29,
   "metadata": {},
   "outputs": [],
   "source": [
    "import re\n",
    "drug_vocab = self.drug_vocab\n",
    "\n",
    "\n",
    "drugs_and_syms:list = list(drug_vocab.keys())\n",
    "drugs_and_syms.extend( item.lower() for key in drug_vocab.keys() if isinstance(drug_vocab[key],list) for item in drug_vocab[key] )\n",
    "ids_and_interventions:list = [(row[\"trial_id\"],row[\"intervention\"].lower()) for row in self.all_studies_df.to_dict('records')]\n",
    "\n",
    "self.appeared_in_edges:list = [(drug,trial_id) for drug in drugs_and_syms for trial_id,intervention in ids_and_interventions if bool(re.compile(r\"\\b%s\\b\" % re.escape(drug)).search(intervention))]\n"
   ]
  },
  {
   "cell_type": "code",
   "execution_count": 27,
   "metadata": {},
   "outputs": [
    {
     "data": {
      "text/plain": [
       "True"
      ]
     },
     "execution_count": 27,
     "metadata": {},
     "output_type": "execute_result"
    }
   ],
   "source": [
    "word = 'two'\n",
    "k = re.compile(r'\\b%s\\b' % word)\n",
    "x = 'one two three'\n",
    "bool(k.search( x))"
   ]
  },
  {
   "cell_type": "code",
   "execution_count": 30,
   "metadata": {},
   "outputs": [
    {
     "data": {
      "text/plain": [
       "435"
      ]
     },
     "execution_count": 30,
     "metadata": {},
     "output_type": "execute_result"
    }
   ],
   "source": [
    "len(self.appeared_in_edges)"
   ]
  },
  {
   "cell_type": "code",
   "execution_count": 31,
   "metadata": {},
   "outputs": [],
   "source": [
    "drug_vocab = self.drug_vocab\n",
    "\n",
    "\n",
    "drugs_and_syms:list = list(drug_vocab.keys())\n",
    "drugs_and_syms.extend( item.lower() for key in drug_vocab.keys() if isinstance(drug_vocab[key],list) for item in drug_vocab[key] )\n",
    "ids_and_interventions:list = [(row[\"trial_id\"],row[\"intervention\"].lower()) for row in self.all_studies_df.to_dict('records')]\n",
    "\n",
    "self.appeared_in_edges_fast:list = [(drug,trial_id) for drug in drugs_and_syms for trial_id,intervention in ids_and_interventions if drug in intervention]"
   ]
  },
  {
   "cell_type": "code",
   "execution_count": 32,
   "metadata": {},
   "outputs": [
    {
     "data": {
      "text/plain": [
       "2145"
      ]
     },
     "execution_count": 32,
     "metadata": {},
     "output_type": "execute_result"
    }
   ],
   "source": [
    "len(self.appeared_in_edges_fast)"
   ]
  },
  {
   "cell_type": "code",
   "execution_count": null,
   "metadata": {},
   "outputs": [],
   "source": []
  }
 ],
 "metadata": {
  "kernelspec": {
   "display_name": "Python 3",
   "language": "python",
   "name": "python3"
  },
  "language_info": {
   "codemirror_mode": {
    "name": "ipython",
    "version": 3
   },
   "file_extension": ".py",
   "mimetype": "text/x-python",
   "name": "python",
   "nbconvert_exporter": "python",
   "pygments_lexer": "ipython3",
   "version": "3.7.7"
  }
 },
 "nbformat": 4,
 "nbformat_minor": 4
}
