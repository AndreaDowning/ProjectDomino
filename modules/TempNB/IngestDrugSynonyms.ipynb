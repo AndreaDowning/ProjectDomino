{
 "cells": [
  {
   "cell_type": "code",
   "execution_count": 86,
   "metadata": {},
   "outputs": [],
   "source": [
    "import requests\n",
    "import pandas as pd\n",
    "import json\n",
    "import sys\n",
    "from pathlib import Path\n",
    "import xlrd\n",
    "import csv\n",
    "import os\n",
    "import tempfile\n",
    "import numpy as np\n",
    "from typing import Optional"
   ]
  },
  {
   "cell_type": "code",
   "execution_count": 17,
   "metadata": {},
   "outputs": [
    {
     "data": {
      "text/html": [
       "<style>.container { width:100% !important; }</style>"
      ],
      "text/plain": [
       "<IPython.core.display.HTML object>"
      ]
     },
     "metadata": {},
     "output_type": "display_data"
    },
    {
     "name": "stderr",
     "output_type": "stream",
     "text": [
      "/home/ben/Projects/Graphs4GoodHackathon/ProjectDomino/.Domino/lib/python3.7/site-packages/ipykernel_launcher.py:3: FutureWarning: Passing a negative integer is deprecated in version 1.0 and will not be supported in future version. Instead, use None to not limit the column width.\n",
      "  This is separate from the ipykernel package so we can avoid doing imports until\n"
     ]
    }
   ],
   "source": [
    "from IPython.core.display import display, HTML\n",
    "display(HTML(\"<style>.container { width:100% !important; }</style>\"))\n",
    "pd.set_option('display.max_colwidth', -1)\n",
    "pd.set_option('display.max_rows', 500)\n",
    "pd.set_option('display.max_columns', 500)\n",
    "pd.set_option('display.width', 1000)"
   ]
  },
  {
   "cell_type": "code",
   "execution_count": 4,
   "metadata": {},
   "outputs": [],
   "source": [
    "with open(\"config.json\") as f:\n",
    "    config = json.load(f)\n",
    "    for key in config:\n",
    "        os.environ[key] = config[key]"
   ]
  },
  {
   "cell_type": "code",
   "execution_count": 21,
   "metadata": {},
   "outputs": [],
   "source": [
    "def xlsHandler(r):\n",
    "    df = pd.DataFrame()\n",
    "    with tempfile.NamedTemporaryFile(\"wb\") as xls_file:\n",
    "        xls_file.write(r.content)\n",
    "    \n",
    "        try:\n",
    "            book = xlrd.open_workbook(xls_file.name,encoding_override=\"utf-8\")  \n",
    "        except:\n",
    "            book = xlrd.open_workbook(xls_file.name,encoding_override=\"cp1251\")\n",
    "\n",
    "        sh = book.sheet_by_index(0)\n",
    "        with tempfile.NamedTemporaryFile(\"w\") as csv_file:\n",
    "            wr = csv.writer(csv_file, quoting=csv.QUOTE_ALL)\n",
    "\n",
    "            for rownum in range(sh.nrows):\n",
    "                wr.writerow(sh.row_values(rownum))\n",
    "            df = pd.read_csv(csv_file.name)\n",
    "            csv_file.close()\n",
    "\n",
    "        xls_file.close()\n",
    "    return df"
   ]
  },
  {
   "cell_type": "code",
   "execution_count": 39,
   "metadata": {},
   "outputs": [],
   "source": [
    "def csvZipHandler(r):\n",
    "    df = pd.DataFrame()\n",
    "    with tempfile.NamedTemporaryFile(\"wb\",suffix='.csv.zip') as file:\n",
    "        file.write(r.content)\n",
    "        df = pd.read_csv(file.name)\n",
    "        file.close()\n",
    "    return df"
   ]
  },
  {
   "cell_type": "code",
   "execution_count": 22,
   "metadata": {},
   "outputs": [],
   "source": [
    "def urlToDF(url:str,respHandler) -> pd.DataFrame:\n",
    "    r = requests.get(url, allow_redirects=True)\n",
    "    df = pd.DataFrame()\n",
    "    return respHandler(r)"
   ]
  },
  {
   "cell_type": "code",
   "execution_count": 23,
   "metadata": {},
   "outputs": [],
   "source": [
    "def api(query,from_study,to_study):\n",
    "    url = os.environ[\"URL_USA\"].format(query,from_study,to_study)\n",
    "    response = requests.request(\"GET\", url)\n",
    "    return response.json()"
   ]
  },
  {
   "cell_type": "code",
   "execution_count": 24,
   "metadata": {},
   "outputs": [],
   "source": [
    "def apiWrapper(query,from_study):\n",
    "    return api(query,from_study,from_study+99)"
   ]
  },
  {
   "cell_type": "code",
   "execution_count": 25,
   "metadata": {},
   "outputs": [],
   "source": [
    "def getAllStudiesByQuery(query:str) -> list:\n",
    "    studies:list = []\n",
    "    from_study = 1\n",
    "    temp = apiWrapper(query,from_study)\n",
    "    nstudies = temp['FullStudiesResponse']['NStudiesFound']\n",
    "    print(\"> {} studies found by '{}' keyword\".format(nstudies,query))\n",
    "    if nstudies > 0:\n",
    "        studies = temp['FullStudiesResponse']['FullStudies']\n",
    "        for study_index in range(from_study+100,nstudies,100):\n",
    "            temp = apiWrapper(query,study_index)\n",
    "            studies.extend(temp['FullStudiesResponse']['FullStudies'])\n",
    "    \n",
    "    return studies"
   ]
  },
  {
   "cell_type": "code",
   "execution_count": 27,
   "metadata": {},
   "outputs": [],
   "source": [
    "url_int = os.environ[\"URL_INT\"]"
   ]
  },
  {
   "cell_type": "code",
   "execution_count": 31,
   "metadata": {},
   "outputs": [],
   "source": [
    "internationalstudies = urlToDF(url_int,xlsHandler)"
   ]
  },
  {
   "cell_type": "code",
   "execution_count": 29,
   "metadata": {},
   "outputs": [
    {
     "data": {
      "text/plain": [
       "Index(['TrialID', 'Last Refreshed on', 'Public title', 'Scientific title', 'Acronym', 'Primary sponsor', 'Date registration', 'Date registration3', 'Export date', 'Source Register', 'web address', 'Recruitment Status', 'other records', 'Inclusion agemin', 'Inclusion agemax', 'Inclusion gender', 'Date enrollement', 'Target size', 'Study type', 'Study design', 'Phase', 'Countries', 'Contact Firstname', 'Contact Lastname', 'Contact Address', 'Contact Email', 'Contact Tel', 'Contact Affiliation', 'Inclusion Criteria', 'Exclusion Criteria', 'Condition', 'Intervention', 'Primary outcome', 'results date posted', 'results date completed', 'results url link', 'Retrospective flag', 'Bridging flag truefalse', 'Bridged type', 'results yes no'], dtype='object')"
      ]
     },
     "execution_count": 29,
     "metadata": {},
     "output_type": "execute_result"
    }
   ],
   "source": [
    "internationalstudies.columns"
   ]
  },
  {
   "cell_type": "code",
   "execution_count": 30,
   "metadata": {},
   "outputs": [
    {
     "data": {
      "text/plain": [
       "0      survival group:none;died:none;                                                                                                                                                                                                                                 \n",
       "1      Case series:Treated with conventional treatment combined with Chloroquine Phosphate;                                                                                                                                                                           \n",
       "2      experimental group:standardized comprehensive treatment combined with convalescent plasma treatment;control group:standardized comprehensive treatment;                                                                                                        \n",
       "3      control group:Western Medicine;experimental group:Integrated Traditional Chinese and Western Medicine;                                                                                                                                                         \n",
       "4      Diagnostic Test: Recombinase aided amplification (RAA) assay                                                                                                                                                                                                   \n",
       "                                   ...                                                                                                                                                                                                                                \n",
       "774    Experimental treatment group:Oral chloroquine phosphate tablets (treatment group);control group:Oral placebo group (control group);                                                                                                                            \n",
       "775    Case series:?;                                                                                                                                                                                                                                                 \n",
       "776    CM group:Xinguan No. 2 / Xinguan No. 3 alone or + regular treatment;WM group:Regular Ttreatment;                                                                                                                                                               \n",
       "777    Suspected case treatment group:TCM formula 1 or TCM formula 2;Suspected case control group:null;Confirmed case  treatment group:Western medicine+(TCM formula 3 or TCM formula 4 or TCM formula 5 or TCM formula 6);Confirmed case control group:Western medici\n",
       "778    experimental group:Fitness Qigong Yangfei prescription;control group:general advice and related psychological comfort.;                                                                                                                                        \n",
       "Name: Intervention, Length: 779, dtype: object"
      ]
     },
     "execution_count": 30,
     "metadata": {},
     "output_type": "execute_result"
    }
   ],
   "source": [
    "internationalstudies[\"Intervention\"]"
   ]
  },
  {
   "cell_type": "code",
   "execution_count": 44,
   "metadata": {},
   "outputs": [
    {
     "name": "stdout",
     "output_type": "stream",
     "text": [
      "> 318 studies found by 'covid-19' keyword\n",
      "> 318 studies found by 'SARS-CoV-2' keyword\n",
      "> 288 studies found by 'coronavirus' keyword\n"
     ]
    }
   ],
   "source": [
    "all_US_studies_by_keyword:dict = {}\n",
    "queries:list = [\"covid-19\", \"SARS-CoV-2\", \"coronavirus\"]\n",
    "\n",
    "for key in queries:\n",
    "    all_US_studies_by_keyword[key] = getAllStudiesByQuery(key)"
   ]
  },
  {
   "cell_type": "code",
   "execution_count": 47,
   "metadata": {},
   "outputs": [
    {
     "name": "stdout",
     "output_type": "stream",
     "text": [
      "3\n"
     ]
    }
   ],
   "source": [
    "print(len(all_US_studies_by_keyword))\n",
    "with open('all_US_studies_by_keyword.json', 'w', encoding='utf-8') as f:\n",
    "    json.dump(all_US_studies_by_keyword, f, ensure_ascii=False, indent=4)"
   ]
  },
  {
   "cell_type": "code",
   "execution_count": 49,
   "metadata": {},
   "outputs": [],
   "source": [
    "drug_url = os.environ[\"URL_DRUGBANK\"]\n",
    "vocab = urlToDF(drug_url,csvZipHandler) "
   ]
  },
  {
   "cell_type": "code",
   "execution_count": 50,
   "metadata": {},
   "outputs": [
    {
     "data": {
      "text/plain": [
       "Index(['DrugBank ID', 'Accession Numbers', 'Common name', 'CAS', 'UNII', 'Synonyms', 'Standard InChI Key'], dtype='object')"
      ]
     },
     "execution_count": 50,
     "metadata": {},
     "output_type": "execute_result"
    }
   ],
   "source": [
    "vocab.columns"
   ]
  },
  {
   "cell_type": "code",
   "execution_count": 43,
   "metadata": {},
   "outputs": [
    {
     "data": {
      "text/html": [
       "<div>\n",
       "<style scoped>\n",
       "    .dataframe tbody tr th:only-of-type {\n",
       "        vertical-align: middle;\n",
       "    }\n",
       "\n",
       "    .dataframe tbody tr th {\n",
       "        vertical-align: top;\n",
       "    }\n",
       "\n",
       "    .dataframe thead th {\n",
       "        text-align: right;\n",
       "    }\n",
       "</style>\n",
       "<table border=\"1\" class=\"dataframe\">\n",
       "  <thead>\n",
       "    <tr style=\"text-align: right;\">\n",
       "      <th></th>\n",
       "      <th>DrugBank ID</th>\n",
       "      <th>Accession Numbers</th>\n",
       "      <th>Common name</th>\n",
       "      <th>CAS</th>\n",
       "      <th>UNII</th>\n",
       "      <th>Synonyms</th>\n",
       "      <th>Standard InChI Key</th>\n",
       "    </tr>\n",
       "  </thead>\n",
       "  <tbody>\n",
       "    <tr>\n",
       "      <th>0</th>\n",
       "      <td>DB00001</td>\n",
       "      <td>BIOD00024 | BTD00024</td>\n",
       "      <td>Lepirudin</td>\n",
       "      <td>138068-37-8</td>\n",
       "      <td>Y43GF64R34</td>\n",
       "      <td>Hirudin variant-1 | Lepirudin recombinant</td>\n",
       "      <td>NaN</td>\n",
       "    </tr>\n",
       "    <tr>\n",
       "      <th>1</th>\n",
       "      <td>DB00002</td>\n",
       "      <td>BIOD00071 | BTD00071</td>\n",
       "      <td>Cetuximab</td>\n",
       "      <td>205923-56-4</td>\n",
       "      <td>PQX0D8J21J</td>\n",
       "      <td>Cetuximab | Cétuximab | Cetuximabum | Immunoglobulin G 1 (human-mouse monoclonal C 225 gamma 1 - chain anti-human epidermal growt factor receptor), disulfide wit human-mouse monoclonal C 225 kappa - chain, dimer</td>\n",
       "      <td>NaN</td>\n",
       "    </tr>\n",
       "    <tr>\n",
       "      <th>2</th>\n",
       "      <td>DB00003</td>\n",
       "      <td>BIOD00001 | BTD00001</td>\n",
       "      <td>Dornase alfa</td>\n",
       "      <td>143831-71-4</td>\n",
       "      <td>953A26OA1Y</td>\n",
       "      <td>Deoxyribonuclease (human clone 18-1 protein moiety) | Dornasa alfa | Dornase alfa, recombinant | Dornase alpha | Recombinant deoxyribonuclease (DNAse)</td>\n",
       "      <td>NaN</td>\n",
       "    </tr>\n",
       "    <tr>\n",
       "      <th>3</th>\n",
       "      <td>DB00004</td>\n",
       "      <td>BIOD00084 | BTD00084</td>\n",
       "      <td>Denileukin diftitox</td>\n",
       "      <td>173146-27-5</td>\n",
       "      <td>25E79B5CTM</td>\n",
       "      <td>Denileukin | Interleukin-2/diptheria toxin fusion protein</td>\n",
       "      <td>NaN</td>\n",
       "    </tr>\n",
       "    <tr>\n",
       "      <th>4</th>\n",
       "      <td>DB00005</td>\n",
       "      <td>BIOD00052 | BTD00052</td>\n",
       "      <td>Etanercept</td>\n",
       "      <td>185243-69-0</td>\n",
       "      <td>OP401G7OJC</td>\n",
       "      <td>Etanercept | etanercept-szzs | etanercept-ykro | Recombinant human TNF | rhu TNFR:Fc | rhu-TNFR:Fc | TNFR-Immunoadhesin</td>\n",
       "      <td>NaN</td>\n",
       "    </tr>\n",
       "    <tr>\n",
       "      <th>5</th>\n",
       "      <td>DB00006</td>\n",
       "      <td>BIOD00076 | BTD00076 | DB02351 | EXPT03302</td>\n",
       "      <td>Bivalirudin</td>\n",
       "      <td>128270-60-0</td>\n",
       "      <td>TN9BEX005G</td>\n",
       "      <td>Bivalirudin | Bivalirudina | Bivalirudinum</td>\n",
       "      <td>OIRCOABEOLEUMC-GEJPAHFPSA-N</td>\n",
       "    </tr>\n",
       "    <tr>\n",
       "      <th>6</th>\n",
       "      <td>DB00007</td>\n",
       "      <td>BIOD00009 | BTD00009</td>\n",
       "      <td>Leuprolide</td>\n",
       "      <td>53714-56-0</td>\n",
       "      <td>EFY6W0M8TG</td>\n",
       "      <td>Leuprorelin | Leuprorelina | Leuproreline | Leuprorelinum</td>\n",
       "      <td>GFIJNRVAKGFPGQ-LIJARHBVSA-N</td>\n",
       "    </tr>\n",
       "    <tr>\n",
       "      <th>7</th>\n",
       "      <td>DB00008</td>\n",
       "      <td>BIOD00043 | BTD00043</td>\n",
       "      <td>Peginterferon alfa-2a</td>\n",
       "      <td>198153-51-4</td>\n",
       "      <td>Q46947FE7K</td>\n",
       "      <td>PEG-IFN alfa-2A | PEG-Interferon alfa-2A | Peginterferon alfa-2a | Pegylated Interfeaon alfa-2A | Pegylated interferon alfa-2a | Pegylated interferon alpha-2a | Pegylated-interferon alfa 2a</td>\n",
       "      <td>NaN</td>\n",
       "    </tr>\n",
       "    <tr>\n",
       "      <th>8</th>\n",
       "      <td>DB00009</td>\n",
       "      <td>BIOD00050 | BTD00050</td>\n",
       "      <td>Alteplase</td>\n",
       "      <td>105857-23-6</td>\n",
       "      <td>1RXS4UE564</td>\n",
       "      <td>Alteplasa | Alteplase (genetical recombination) | Alteplase, recombinant | Alteplase,recombinant | Plasminogen activator (human tissue-type protein moiety) | rt-PA | t-PA | t-plasminogen activator | Tissue plasminogen activator | Tissue plasminogen activator alteplase | Tissue plasminogen activator, recombinant | tPA</td>\n",
       "      <td>NaN</td>\n",
       "    </tr>\n",
       "    <tr>\n",
       "      <th>9</th>\n",
       "      <td>DB00010</td>\n",
       "      <td>BIOD00033 | BTD00033</td>\n",
       "      <td>Sermorelin</td>\n",
       "      <td>86168-78-7</td>\n",
       "      <td>89243S03TE</td>\n",
       "      <td>NaN</td>\n",
       "      <td>NaN</td>\n",
       "    </tr>\n",
       "    <tr>\n",
       "      <th>10</th>\n",
       "      <td>DB00011</td>\n",
       "      <td>BIOD00096 | BTD00096 | DB00084</td>\n",
       "      <td>Interferon alfa-n1</td>\n",
       "      <td>74899-72-2</td>\n",
       "      <td>41697D4Z5C</td>\n",
       "      <td>Interferon alpha-n1 (INS)</td>\n",
       "      <td>NaN</td>\n",
       "    </tr>\n",
       "    <tr>\n",
       "      <th>11</th>\n",
       "      <td>DB00012</td>\n",
       "      <td>BIOD00032 | BTD00032</td>\n",
       "      <td>Darbepoetin alfa</td>\n",
       "      <td>209810-58-2</td>\n",
       "      <td>15UQ94PT4P</td>\n",
       "      <td>Darbepoetin | Darbepoetin alfa,recombinant | Darbepoetina alfa</td>\n",
       "      <td>NaN</td>\n",
       "    </tr>\n",
       "    <tr>\n",
       "      <th>12</th>\n",
       "      <td>DB00013</td>\n",
       "      <td>BIOD00030 | BTD00030</td>\n",
       "      <td>Urokinase</td>\n",
       "      <td>9039-53-6</td>\n",
       "      <td>83G67E21XI</td>\n",
       "      <td>Kinase (enzyme-activating), uro-urokinase | TCUK | Tissue culture urokinase | Two-chain urokinase | Urochinasi | Urokinase | Urokinasum | Uroquinasa</td>\n",
       "      <td>NaN</td>\n",
       "    </tr>\n",
       "    <tr>\n",
       "      <th>13</th>\n",
       "      <td>DB00014</td>\n",
       "      <td>BIOD00113 | BTD00113</td>\n",
       "      <td>Goserelin</td>\n",
       "      <td>65807-02-5</td>\n",
       "      <td>0F65R8P09N</td>\n",
       "      <td>Goserelin | Goserelina</td>\n",
       "      <td>BLCLNMBMMGCOAS-URPVMXJPSA-N</td>\n",
       "    </tr>\n",
       "    <tr>\n",
       "      <th>14</th>\n",
       "      <td>DB00015</td>\n",
       "      <td>BIOD00013 | BTD00013</td>\n",
       "      <td>Reteplase</td>\n",
       "      <td>133652-38-7</td>\n",
       "      <td>DQA630RIE9</td>\n",
       "      <td>Human t-PA (residues 1-3 and 176-527) | Reteplasa | Reteplase, recombinant | Reteplase,recombinant</td>\n",
       "      <td>NaN</td>\n",
       "    </tr>\n",
       "    <tr>\n",
       "      <th>15</th>\n",
       "      <td>DB00016</td>\n",
       "      <td>BIOD00103 | BTD00103 | DB08923</td>\n",
       "      <td>Erythropoietin</td>\n",
       "      <td>11096-26-7</td>\n",
       "      <td>64FS3BFH5W</td>\n",
       "      <td>E.P.O. | Epoetin alfa | Epoetin alfa rDNA | Epoetin alfa-epbx | Epoetin alfa, recombinant | Epoetin beta | Epoetin beta rDNA | Epoetin epsilon | Epoetin gamma | Epoetin gamma rDNA | Epoetin kappa | Epoetin omega | Epoetin theta | Epoetin zeta | Epoetina alfa | Epoetina beta | Epoetina dseta | Epoetina zeta | Epoétine zêta | Epoetinum zeta | Erythropoiesis stimulating factor | Erythropoietin (human, recombinant) | Erythropoietin (recombinant human) | ESF | SH-polypeptide-72</td>\n",
       "      <td>NaN</td>\n",
       "    </tr>\n",
       "    <tr>\n",
       "      <th>16</th>\n",
       "      <td>DB00017</td>\n",
       "      <td>BIOD00025 | BTD00025</td>\n",
       "      <td>Salmon Calcitonin</td>\n",
       "      <td>47931-85-1</td>\n",
       "      <td>7SFC6U2VI5</td>\n",
       "      <td>Calcitonin (Salmon Synthetic) | Calcitonin Salmon | Calcitonin salmon recombinant | Calcitonin-salmon | Calcitonin, salmon | Calcitonina salmón sintética | Recombinant salmon calcitonin | Salmon calcitonin</td>\n",
       "      <td>NaN</td>\n",
       "    </tr>\n",
       "    <tr>\n",
       "      <th>17</th>\n",
       "      <td>DB00018</td>\n",
       "      <td>BIOD00023 | BTD00023</td>\n",
       "      <td>Interferon alfa-n3</td>\n",
       "      <td>NaN</td>\n",
       "      <td>47BPR3V3MP</td>\n",
       "      <td>NaN</td>\n",
       "      <td>NaN</td>\n",
       "    </tr>\n",
       "    <tr>\n",
       "      <th>18</th>\n",
       "      <td>DB00019</td>\n",
       "      <td>BIOD00094 | BTD00094</td>\n",
       "      <td>Pegfilgrastim</td>\n",
       "      <td>208265-92-3</td>\n",
       "      <td>3A58010674</td>\n",
       "      <td>Granulocyte colony-stimulating factor pegfilgrastim | peg-filgrastim | pegfilgrastim-bmez | pegfilgrastim-cbqv | pegfilgrastim-jmdb</td>\n",
       "      <td>NaN</td>\n",
       "    </tr>\n",
       "    <tr>\n",
       "      <th>19</th>\n",
       "      <td>DB00020</td>\n",
       "      <td>BIOD00035 | BTD00035</td>\n",
       "      <td>Sargramostim</td>\n",
       "      <td>123774-72-1</td>\n",
       "      <td>5TAA004E22</td>\n",
       "      <td>Recombinant human granulocyte-macrophage colony stimulating factor | rGM-CSF | rHu GM-CSF | Sargramostim</td>\n",
       "      <td>NaN</td>\n",
       "    </tr>\n",
       "  </tbody>\n",
       "</table>\n",
       "</div>"
      ],
      "text/plain": [
       "   DrugBank ID                           Accession Numbers            Common name          CAS        UNII                                                                                                                                                                                                                                                                                                                                                                                                                                                                                       Synonyms           Standard InChI Key\n",
       "0   DB00001     BIOD00024 | BTD00024                        Lepirudin              138068-37-8  Y43GF64R34  Hirudin variant-1 | Lepirudin recombinant                                                                                                                                                                                                                                                                                                                                                                                                                                                      NaN                        \n",
       "1   DB00002     BIOD00071 | BTD00071                        Cetuximab              205923-56-4  PQX0D8J21J  Cetuximab | Cétuximab | Cetuximabum | Immunoglobulin G 1 (human-mouse monoclonal C 225 gamma 1 - chain anti-human epidermal growt factor receptor), disulfide wit human-mouse monoclonal C 225 kappa - chain, dimer                                                                                                                                                                                                                                                                            NaN                        \n",
       "2   DB00003     BIOD00001 | BTD00001                        Dornase alfa           143831-71-4  953A26OA1Y  Deoxyribonuclease (human clone 18-1 protein moiety) | Dornasa alfa | Dornase alfa, recombinant | Dornase alpha | Recombinant deoxyribonuclease (DNAse)                                                                                                                                                                                                                                                                                                                                         NaN                        \n",
       "3   DB00004     BIOD00084 | BTD00084                        Denileukin diftitox    173146-27-5  25E79B5CTM  Denileukin | Interleukin-2/diptheria toxin fusion protein                                                                                                                                                                                                                                                                                                                                                                                                                                      NaN                        \n",
       "4   DB00005     BIOD00052 | BTD00052                        Etanercept             185243-69-0  OP401G7OJC  Etanercept | etanercept-szzs | etanercept-ykro | Recombinant human TNF | rhu TNFR:Fc | rhu-TNFR:Fc | TNFR-Immunoadhesin                                                                                                                                                                                                                                                                                                                                                                        NaN                        \n",
       "5   DB00006     BIOD00076 | BTD00076 | DB02351 | EXPT03302  Bivalirudin            128270-60-0  TN9BEX005G  Bivalirudin | Bivalirudina | Bivalirudinum                                                                                                                                                                                                                                                                                                                                                                                                                                                     OIRCOABEOLEUMC-GEJPAHFPSA-N\n",
       "6   DB00007     BIOD00009 | BTD00009                        Leuprolide             53714-56-0   EFY6W0M8TG  Leuprorelin | Leuprorelina | Leuproreline | Leuprorelinum                                                                                                                                                                                                                                                                                                                                                                                                                                      GFIJNRVAKGFPGQ-LIJARHBVSA-N\n",
       "7   DB00008     BIOD00043 | BTD00043                        Peginterferon alfa-2a  198153-51-4  Q46947FE7K  PEG-IFN alfa-2A | PEG-Interferon alfa-2A | Peginterferon alfa-2a | Pegylated Interfeaon alfa-2A | Pegylated interferon alfa-2a | Pegylated interferon alpha-2a | Pegylated-interferon alfa 2a                                                                                                                                                                                                                                                                                                  NaN                        \n",
       "8   DB00009     BIOD00050 | BTD00050                        Alteplase              105857-23-6  1RXS4UE564  Alteplasa | Alteplase (genetical recombination) | Alteplase, recombinant | Alteplase,recombinant | Plasminogen activator (human tissue-type protein moiety) | rt-PA | t-PA | t-plasminogen activator | Tissue plasminogen activator | Tissue plasminogen activator alteplase | Tissue plasminogen activator, recombinant | tPA                                                                                                                                                                 NaN                        \n",
       "9   DB00010     BIOD00033 | BTD00033                        Sermorelin             86168-78-7   89243S03TE  NaN                                                                                                                                                                                                                                                                                                                                                                                                                                                                                            NaN                        \n",
       "10  DB00011     BIOD00096 | BTD00096 | DB00084              Interferon alfa-n1     74899-72-2   41697D4Z5C  Interferon alpha-n1 (INS)                                                                                                                                                                                                                                                                                                                                                                                                                                                                      NaN                        \n",
       "11  DB00012     BIOD00032 | BTD00032                        Darbepoetin alfa       209810-58-2  15UQ94PT4P  Darbepoetin | Darbepoetin alfa,recombinant | Darbepoetina alfa                                                                                                                                                                                                                                                                                                                                                                                                                                 NaN                        \n",
       "12  DB00013     BIOD00030 | BTD00030                        Urokinase              9039-53-6    83G67E21XI  Kinase (enzyme-activating), uro-urokinase | TCUK | Tissue culture urokinase | Two-chain urokinase | Urochinasi | Urokinase | Urokinasum | Uroquinasa                                                                                                                                                                                                                                                                                                                                           NaN                        \n",
       "13  DB00014     BIOD00113 | BTD00113                        Goserelin              65807-02-5   0F65R8P09N  Goserelin | Goserelina                                                                                                                                                                                                                                                                                                                                                                                                                                                                         BLCLNMBMMGCOAS-URPVMXJPSA-N\n",
       "14  DB00015     BIOD00013 | BTD00013                        Reteplase              133652-38-7  DQA630RIE9  Human t-PA (residues 1-3 and 176-527) | Reteplasa | Reteplase, recombinant | Reteplase,recombinant                                                                                                                                                                                                                                                                                                                                                                                             NaN                        \n",
       "15  DB00016     BIOD00103 | BTD00103 | DB08923              Erythropoietin         11096-26-7   64FS3BFH5W  E.P.O. | Epoetin alfa | Epoetin alfa rDNA | Epoetin alfa-epbx | Epoetin alfa, recombinant | Epoetin beta | Epoetin beta rDNA | Epoetin epsilon | Epoetin gamma | Epoetin gamma rDNA | Epoetin kappa | Epoetin omega | Epoetin theta | Epoetin zeta | Epoetina alfa | Epoetina beta | Epoetina dseta | Epoetina zeta | Epoétine zêta | Epoetinum zeta | Erythropoiesis stimulating factor | Erythropoietin (human, recombinant) | Erythropoietin (recombinant human) | ESF | SH-polypeptide-72  NaN                        \n",
       "16  DB00017     BIOD00025 | BTD00025                        Salmon Calcitonin      47931-85-1   7SFC6U2VI5  Calcitonin (Salmon Synthetic) | Calcitonin Salmon | Calcitonin salmon recombinant | Calcitonin-salmon | Calcitonin, salmon | Calcitonina salmón sintética | Recombinant salmon calcitonin | Salmon calcitonin                                                                                                                                                                                                                                                                                  NaN                        \n",
       "17  DB00018     BIOD00023 | BTD00023                        Interferon alfa-n3     NaN          47BPR3V3MP  NaN                                                                                                                                                                                                                                                                                                                                                                                                                                                                                            NaN                        \n",
       "18  DB00019     BIOD00094 | BTD00094                        Pegfilgrastim          208265-92-3  3A58010674  Granulocyte colony-stimulating factor pegfilgrastim | peg-filgrastim | pegfilgrastim-bmez | pegfilgrastim-cbqv | pegfilgrastim-jmdb                                                                                                                                                                                                                                                                                                                                                            NaN                        \n",
       "19  DB00020     BIOD00035 | BTD00035                        Sargramostim           123774-72-1  5TAA004E22  Recombinant human granulocyte-macrophage colony stimulating factor | rGM-CSF | rHu GM-CSF | Sargramostim                                                                                                                                                                                                                                                                                                                                                                                       NaN                        "
      ]
     },
     "execution_count": 43,
     "metadata": {},
     "output_type": "execute_result"
    }
   ],
   "source": [
    "vocab.head(20)"
   ]
  },
  {
   "cell_type": "code",
   "execution_count": 52,
   "metadata": {},
   "outputs": [],
   "source": [
    "#vocab.to_csv(\"vocab.csv\")"
   ]
  },
  {
   "cell_type": "code",
   "execution_count": 62,
   "metadata": {},
   "outputs": [],
   "source": [
    "vocab_red = vocab[['Common name', 'Synonyms']]"
   ]
  },
  {
   "cell_type": "code",
   "execution_count": 63,
   "metadata": {},
   "outputs": [],
   "source": [
    "drug_vocab:dict = {}"
   ]
  },
  {
   "cell_type": "code",
   "execution_count": 80,
   "metadata": {},
   "outputs": [],
   "source": [
    "for index, row in vocab_red.iterrows():\n",
    "    drug_vocab[row['Common name']] = row[\"Synonyms\"].split(\"|\") if isinstance(row[\"Synonyms\"],str) else row[\"Synonyms\"]"
   ]
  },
  {
   "cell_type": "code",
   "execution_count": 81,
   "metadata": {},
   "outputs": [],
   "source": [
    "from neo4j import GraphDatabase"
   ]
  },
  {
   "cell_type": "code",
   "execution_count": 83,
   "metadata": {},
   "outputs": [],
   "source": [
    "class DrugSynonimDataToNeo4j(object):\n",
    "\n",
    "    def __init__(self, uri, user, password):\n",
    "        self._driver = GraphDatabase.driver(uri, auth=(user, password))\n",
    "\n",
    "    def close(self):\n",
    "        self._driver.close()\n",
    "    \n",
    "    def upload_drugs_and_synonims(self,drug_vocab):\n",
    "        with self._driver.session() as session:\n",
    "            for key in drub_vocab.keys():\n",
    "                for synonym in drug_vocab[key]:\n",
    "                    \n",
    "            resp = session.write_transaction(self._merge_node, message)\n",
    "            print(resp) \n",
    "    \n",
    "    @staticmethod\n",
    "    def _merge_node(tx, node_type, properties=None):\n",
    "        data:dict = {\n",
    "            \"node_type\":node_type\n",
    "            \"properties\":self._dict_to_property_str(properties)\n",
    "        }\n",
    "        # '{first} {last}'.format(**data)\n",
    "        base_cypher = \"\"\"\n",
    "        MERGE (n:{node_type}) {{ {properties} }})\n",
    "        RETURN id(n)\n",
    "        \"\"\"\n",
    "        result = tx.run(base_cypher.format(**data))\n",
    "        \n",
    "        return result\n",
    "    \n",
    "    @staticmethod\n",
    "    def _merge_edge(tx, from_id, to_id, ):\n",
    "        result = tx.run(\"CREATE (a:Greeting) \"\n",
    "                \"SET a.message = $message \"\n",
    "                \"RETURN a.message + ', from node ' + id(a)\", message=message)\n",
    "        return result\n",
    "    \n",
    "    @staticmethod\n",
    "    def _dict_to_property_str(properties:Optional[dict] = None) -> str:\n",
    "        def property_type_checker(property_value):\n",
    "            if isinstance(property_value,int) or isinstance(property_value,float):\n",
    "                pass\n",
    "            elif isinstance(property_value,str):\n",
    "                property_value = \"\"\"'\"\"\" + property_value + \"\"\"'\"\"\"\n",
    "            return property_value\n",
    "\n",
    "        resp = \"\"\n",
    "        if not properties:\n",
    "            resp = \"{\"\n",
    "            for key in properties.keys():\n",
    "                resp += \"\"\"{key}:{value},\"\"\".format(key=key,value=property_type_checker(properties[key]))\n",
    "            resp = resp[:-1] + \"}\"\n",
    "        return resp"
   ]
  },
  {
   "cell_type": "code",
   "execution_count": 88,
   "metadata": {},
   "outputs": [],
   "source": [
    "test:dict = {\n",
    "    \"a\":\"B\",\n",
    "    \"c\":\"D\",\n",
    "}"
   ]
  },
  {
   "cell_type": "code",
   "execution_count": 90,
   "metadata": {},
   "outputs": [],
   "source": [
    "asd = \"asd,\""
   ]
  },
  {
   "cell_type": "code",
   "execution_count": 91,
   "metadata": {},
   "outputs": [
    {
     "name": "stdout",
     "output_type": "stream",
     "text": [
      "asd}\n"
     ]
    }
   ],
   "source": [
    "print(asd[:-1]+\"}\")"
   ]
  },
  {
   "cell_type": "code",
   "execution_count": null,
   "metadata": {},
   "outputs": [],
   "source": []
  }
 ],
 "metadata": {
  "kernelspec": {
   "display_name": "Python 3",
   "language": "python",
   "name": "python3"
  },
  "language_info": {
   "codemirror_mode": {
    "name": "ipython",
    "version": 3
   },
   "file_extension": ".py",
   "mimetype": "text/x-python",
   "name": "python",
   "nbconvert_exporter": "python",
   "pygments_lexer": "ipython3",
   "version": "3.7.7"
  }
 },
 "nbformat": 4,
 "nbformat_minor": 4
}
