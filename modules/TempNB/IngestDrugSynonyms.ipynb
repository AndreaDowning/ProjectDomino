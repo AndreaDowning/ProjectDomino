{
 "cells": [
  {
   "cell_type": "code",
   "execution_count": 1,
   "metadata": {},
   "outputs": [],
   "source": [
    "from IngestDrugSynonyms import IngestDrugSynonyms"
   ]
  },
  {
   "cell_type": "code",
   "execution_count": 2,
   "metadata": {},
   "outputs": [],
   "source": [
    "import pandas as pd"
   ]
  },
  {
   "cell_type": "code",
   "execution_count": 3,
   "metadata": {},
   "outputs": [],
   "source": [
    "%load_ext autoreload\n",
    "%autoreload 2"
   ]
  },
  {
   "cell_type": "code",
   "execution_count": 4,
   "metadata": {},
   "outputs": [
    {
     "data": {
      "text/html": [
       "<style>.container { width:100% !important; }</style>"
      ],
      "text/plain": [
       "<IPython.core.display.HTML object>"
      ]
     },
     "metadata": {},
     "output_type": "display_data"
    },
    {
     "name": "stderr",
     "output_type": "stream",
     "text": [
      "/home/ben/Projects/Graphs4GoodHackathon/ProjectDomino/.Domino/lib/python3.7/site-packages/ipykernel_launcher.py:3: FutureWarning: Passing a negative integer is deprecated in version 1.0 and will not be supported in future version. Instead, use None to not limit the column width.\n",
      "  This is separate from the ipykernel package so we can avoid doing imports until\n"
     ]
    }
   ],
   "source": [
    "from IPython.core.display import display, HTML\n",
    "display(HTML(\"<style>.container { width:100% !important; }</style>\"))\n",
    "pd.set_option('display.max_colwidth', -1)\n",
    "pd.set_option('display.max_columns', 500)\n",
    "pd.set_option('display.width', 1000)"
   ]
  },
  {
   "cell_type": "code",
   "execution_count": 5,
   "metadata": {},
   "outputs": [],
   "source": [
    "drugSynonym = IngestDrugSynonyms()"
   ]
  },
  {
   "cell_type": "code",
   "execution_count": 8,
   "metadata": {},
   "outputs": [
    {
     "name": "stderr",
     "output_type": "stream",
     "text": [
      "2020-04-09 17:57:44,679 - > 403 studies found by 'covid-19' keyword\n",
      "2020-04-09 17:58:07,131 - > 403 studies found by 'SARS-CoV-2' keyword\n",
      "2020-04-09 17:58:29,969 - > 332 studies found by 'coronavirus' keyword\n",
      "2020-04-09 17:58:46,243 - > 1050 distinct studies found\n"
     ]
    }
   ],
   "source": [
    "drugSynonym.auto_get_and_clean_data()"
   ]
  },
  {
   "cell_type": "code",
   "execution_count": 11,
   "metadata": {},
   "outputs": [],
   "source": [
    "drug_vocab = drugSynonym.drug_vocab\n",
    "drugs_and_syms:list = list(drug_vocab.keys())\n",
    "\n",
    "drugs_and_syms.extend( item for key in drug_vocab.keys() if isinstance(drug_vocab[key],list) for item in drug_vocab[key])"
   ]
  },
  {
   "cell_type": "code",
   "execution_count": 12,
   "metadata": {},
   "outputs": [
    {
     "data": {
      "text/plain": [
       "39481"
      ]
     },
     "execution_count": 12,
     "metadata": {},
     "output_type": "execute_result"
    }
   ],
   "source": [
    "len(drugs_and_syms)"
   ]
  },
  {
   "cell_type": "code",
   "execution_count": null,
   "metadata": {},
   "outputs": [],
   "source": [
    "import time"
   ]
  },
  {
   "cell_type": "code",
   "execution_count": 20,
   "metadata": {},
   "outputs": [
    {
     "name": "stdout",
     "output_type": "stream",
     "text": [
      "1586419734.402499\n",
      "1586419818.246048\n",
      "83.84361219406128\n",
      "1586419901.5618382\n",
      "167.15940022468567\n",
      "1586419985.5537164\n",
      "251.15127801895142\n",
      "1586420069.5865138\n",
      "335.1840934753418\n",
      "1586420153.0173287\n",
      "418.61490273475647\n",
      "1586420235.5331979\n",
      "501.13076305389404\n",
      "1586420318.3730078\n",
      "583.9705700874329\n",
      "1586420401.3945472\n",
      "666.9921083450317\n",
      "1586420484.51531\n",
      "750.1128664016724\n",
      "1586420568.2253563\n",
      "833.8229167461395\n",
      "1586420651.7354705\n",
      "917.3330311775208\n",
      "1586420735.1248071\n",
      "1000.7223672866821\n",
      "1586420818.3368707\n",
      "1083.9344317913055\n",
      "1586420901.8185306\n",
      "1167.4160959720612\n",
      "1586420986.0851562\n",
      "1251.6827161312103\n",
      "1586421070.07279\n",
      "1335.6703515052795\n",
      "1586421153.7543426\n",
      "1419.351904630661\n",
      "1586421237.545393\n",
      "1503.1429777145386\n",
      "1586421320.8366966\n",
      "1586.4342572689056\n",
      "1586421404.006324\n",
      "1669.6038839817047\n",
      "1586421487.4593859\n",
      "1753.0569460391998\n",
      "1586421570.824374\n",
      "1836.4219362735748\n",
      "1586421654.610131\n",
      "1920.20769405365\n",
      "1586421737.9467065\n",
      "2003.5442702770233\n",
      "1586421821.3660948\n",
      "2086.9636595249176\n",
      "1586421906.288895\n",
      "2171.886456489563\n",
      "1586421991.4019985\n",
      "2256.999561071396\n",
      "1586422076.0194333\n",
      "2341.6169979572296\n",
      "1586422160.2064266\n",
      "2425.8039889335632\n",
      "1586422244.7931771\n",
      "2510.390773296356\n",
      "1586422329.1514266\n",
      "2594.748988866806\n",
      "1586422413.5586252\n",
      "2679.156194448471\n",
      "1586422497.0366716\n",
      "2762.634252309799\n",
      "1586422579.8006713\n",
      "2845.39825296402\n",
      "1586422662.2891464\n",
      "2927.886730670929\n",
      "1586422745.0294447\n",
      "3010.6270241737366\n",
      "1586422827.7157333\n",
      "3093.313295841217\n",
      "1586422910.6985836\n",
      "3176.296145915985\n",
      "1586422994.586706\n",
      "3260.1842737197876\n",
      "3297.177438735962\n",
      "1586423031.5799377\n"
     ]
    }
   ],
   "source": [
    "studies = drugSynonym.all_studies_df\n",
    "appeared_in_edges:list = []\n",
    "start = time.time()\n",
    "print(start)\n",
    "count = 0\n",
    "prev = 0\n",
    "for drug in drugs_and_syms:\n",
    "    \n",
    "    for index,row in studies.iterrows():\n",
    "        if drug in row[\"intervention\"]:\n",
    "            appeared_in_edges.append((drug,row[\"trial_id\"]))\n",
    "    count += 1\n",
    "    if count > prev + 1000:\n",
    "        print(time.time())\n",
    "        print(time.time() - start)\n",
    "        prev = count\n",
    "            \n",
    "end = time.time()\n",
    "print(end - start)\n",
    "print(end)\n"
   ]
  },
  {
   "cell_type": "code",
   "execution_count": 21,
   "metadata": {},
   "outputs": [
    {
     "name": "stdout",
     "output_type": "stream",
     "text": [
      "3269.469130039215\n"
     ]
    }
   ],
   "source": [
    "start = time.time()\n",
    "appeared_in_edges:list = [(drug,row[\"trial_id\"]) for drug in drugs_and_syms for index,row in studies.iterrows() if drug in row[\"intervention\"]]\n",
    "end = time.time()\n",
    "print(end - start)"
   ]
  },
  {
   "cell_type": "code",
   "execution_count": 22,
   "metadata": {},
   "outputs": [
    {
     "data": {
      "text/plain": [
       "3276923"
      ]
     },
     "execution_count": 22,
     "metadata": {},
     "output_type": "execute_result"
    }
   ],
   "source": [
    "39481 * 83"
   ]
  },
  {
   "cell_type": "code",
   "execution_count": null,
   "metadata": {},
   "outputs": [],
   "source": [
    "GPU?"
   ]
  }
 ],
 "metadata": {
  "kernelspec": {
   "display_name": "Python 3",
   "language": "python",
   "name": "python3"
  },
  "language_info": {
   "codemirror_mode": {
    "name": "ipython",
    "version": 3
   },
   "file_extension": ".py",
   "mimetype": "text/x-python",
   "name": "python",
   "nbconvert_exporter": "python",
   "pygments_lexer": "ipython3",
   "version": "3.7.7"
  }
 },
 "nbformat": 4,
 "nbformat_minor": 4
}
