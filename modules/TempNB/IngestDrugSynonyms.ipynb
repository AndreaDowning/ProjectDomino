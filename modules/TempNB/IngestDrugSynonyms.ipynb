{
 "cells": [
  {
   "cell_type": "code",
   "execution_count": 3,
   "metadata": {},
   "outputs": [],
   "source": [
    "from IngestDrugSynonyms import IngestDrugSynonyms\n",
    "from DrugSynonymDataToNeo4j import DrugSynonymDataToNeo4j"
   ]
  },
  {
   "cell_type": "code",
   "execution_count": 4,
   "metadata": {},
   "outputs": [],
   "source": [
    "import pandas as pd\n",
    "import timeit"
   ]
  },
  {
   "cell_type": "code",
   "execution_count": 5,
   "metadata": {},
   "outputs": [],
   "source": [
    "%load_ext autoreload\n",
    "%autoreload 2"
   ]
  },
  {
   "cell_type": "code",
   "execution_count": 6,
   "metadata": {},
   "outputs": [
    {
     "data": {
      "text/html": [
       "<style>.container { width:100% !important; }</style>"
      ],
      "text/plain": [
       "<IPython.core.display.HTML object>"
      ]
     },
     "metadata": {},
     "output_type": "display_data"
    }
   ],
   "source": [
    "from IPython.core.display import display, HTML\n",
    "display(HTML(\"<style>.container { width:100% !important; }</style>\"))\n",
    "pd.set_option('display.max_colwidth', -1)\n",
    "pd.set_option('display.max_columns', 500)\n",
    "pd.set_option('display.width', 1000)"
   ]
  },
  {
   "cell_type": "code",
   "execution_count": 7,
   "metadata": {},
   "outputs": [
    {
     "name": "stderr",
     "output_type": "stream",
     "text": [
      "2020-04-10 17:34:12,924 - > STARTING scraping with 'covid-19' keyword\n",
      "2020-04-10 17:34:19,051 - > 427 studies found by 'covid-19' keyword\n",
      "2020-04-10 17:34:56,699 - > STARTING scraping with 'SARS-CoV-2' keyword\n",
      "2020-04-10 17:35:29,563 - > 427 studies found by 'SARS-CoV-2' keyword\n",
      "2020-04-10 17:35:54,874 - > STARTING scraping with 'coronavirus' keyword\n",
      "2020-04-10 17:36:00,219 - > 346 studies found by 'coronavirus' keyword\n",
      "2020-04-10 17:36:36,751 - > 1076 distinct studies found\n",
      "2020-04-10 17:36:39,650 - > 9443 drug & synonym to study connections found\n",
      "2020-04-10 17:36:39,678 - > Importing Drugs and Synonyms Job is Started to merge 13475 drugs with synonyms\n",
      "2020-04-10 17:37:02,822 - > 1023 nodes and 878 edges already merged\n",
      "2020-04-10 17:37:25,349 - > 2031 nodes and 1750 edges already merged\n",
      "2020-04-10 17:37:48,339 - > 3032 nodes and 2625 edges already merged\n",
      "2020-04-10 17:38:11,572 - > 4036 nodes and 3487 edges already merged\n",
      "2020-04-10 17:38:35,757 - > 5041 nodes and 4353 edges already merged\n",
      "2020-04-10 17:38:59,827 - > 6044 nodes and 5217 edges already merged\n",
      "2020-04-10 17:39:23,853 - > 7051 nodes and 6083 edges already merged\n",
      "2020-04-10 17:39:48,748 - > 8052 nodes and 6931 edges already merged\n",
      "2020-04-10 17:40:13,336 - > 9055 nodes and 7763 edges already merged\n",
      "2020-04-10 17:40:37,387 - > 10056 nodes and 8541 edges already merged\n",
      "2020-04-10 17:40:58,456 - > 11057 nodes and 9141 edges already merged\n",
      "2020-04-10 17:41:16,888 - > 12058 nodes and 9564 edges already merged\n",
      "2020-04-10 17:41:35,783 - > 13060 nodes and 9990 edges already merged\n",
      "2020-04-10 17:41:55,451 - > 14061 nodes and 10450 edges already merged\n",
      "2020-04-10 17:42:14,205 - > 15062 nodes and 10846 edges already merged\n",
      "2020-04-10 17:42:35,938 - > 16066 nodes and 11450 edges already merged\n",
      "2020-04-10 17:42:54,723 - > 17069 nodes and 11818 edges already merged\n",
      "2020-04-10 17:43:15,160 - > 18071 nodes and 12297 edges already merged\n",
      "2020-04-10 17:43:37,174 - > 19072 nodes and 12855 edges already merged\n",
      "2020-04-10 17:43:52,857 - > 20073 nodes and 12978 edges already merged\n",
      "2020-04-10 17:44:10,002 - > 21075 nodes and 13199 edges already merged\n",
      "2020-04-10 17:44:34,480 - > 22078 nodes and 13911 edges already merged\n",
      "2020-04-10 17:44:59,434 - > 23083 nodes and 14643 edges already merged\n",
      "2020-04-10 17:45:20,799 - > 24084 nodes and 15160 edges already merged\n",
      "2020-04-10 17:45:44,711 - > 25085 nodes and 15824 edges already merged\n",
      "2020-04-10 17:46:10,668 - > 26086 nodes and 16565 edges already merged\n",
      "2020-04-10 17:46:33,678 - > 27089 nodes and 17107 edges already merged\n",
      "2020-04-10 17:46:52,768 - > 28092 nodes and 17380 edges already merged\n",
      "2020-04-10 17:47:15,241 - > 29093 nodes and 17885 edges already merged\n",
      "2020-04-10 17:47:37,587 - > 30094 nodes and 18356 edges already merged\n",
      "2020-04-10 17:48:04,483 - > 31096 nodes and 19103 edges already merged\n",
      "2020-04-10 17:48:33,477 - > 32098 nodes and 19960 edges already merged\n",
      "2020-04-10 17:49:03,517 - > 33102 nodes and 20885 edges already merged\n",
      "2020-04-10 17:49:33,052 - > 34103 nodes and 21745 edges already merged\n",
      "2020-04-10 17:50:01,526 - > 35115 nodes and 22508 edges already merged\n",
      "2020-04-10 17:50:23,259 - > 36116 nodes and 22864 edges already merged\n",
      "2020-04-10 17:50:40,756 - > Importing Drugs and Synonyms Job is >> Done << with 36766 nodes and 23291 edges merged\n",
      "2020-04-10 17:50:40,756 - > Importing Studies Job is Started\n",
      "2020-04-10 17:50:44,566 - > 1001 nodes already merged\n",
      "2020-04-10 17:50:44,866 - > Importing Studies Job is >> Done << with 1076 nodes merged\n"
     ]
    }
   ],
   "source": [
    "drugSynonym = IngestDrugSynonyms()\n",
    "drugSynonym.auto_get_and_clean_data()\n",
    "drugSynonym.create_drug_study_links()\n",
    "drugSynonym.create_url_study_links()\n",
    "\n",
    "neo4jBridge = DrugSynonymDataToNeo4j()\n",
    "neo4jBridge.merge_drugs_synonyms_and_link_between(drugSynonym.drug_vocab)\n",
    "neo4jBridge.merge_studies(drugSynonym.all_studies_df)"
   ]
  },
  {
   "cell_type": "code",
   "execution_count": 8,
   "metadata": {},
   "outputs": [
    {
     "name": "stderr",
     "output_type": "stream",
     "text": [
      "2020-04-10 17:50:44,890 - > Importing connections of Drugs&Synonyms to Studies Job is Started with 9443 edges to merge\n",
      "2020-04-10 17:52:07,887 - > Importing connections of Drugs&Synonyms to Studies Job is Finished with 9443 edges to merged\n"
     ]
    }
   ],
   "source": [
    "neo4jBridge.merge_drug_to_study_rels(drugSynonym.appeared_in_edges)"
   ]
  },
  {
   "cell_type": "code",
   "execution_count": 12,
   "metadata": {},
   "outputs": [
    {
     "name": "stderr",
     "output_type": "stream",
     "text": [
      "2020-04-10 17:59:33,901 - > Importing Studies Job is Started\n",
      "2020-04-10 17:59:41,503 - > 1001 nodes already merged\n",
      "2020-04-10 17:59:42,086 - > Importing Url Job is >> Done << with 1076 nodes merged\n"
     ]
    }
   ],
   "source": [
    "neo4jBridge.merge_url(list(drugSynonym.all_studies_df[\"study_url\"]))"
   ]
  },
  {
   "cell_type": "code",
   "execution_count": 14,
   "metadata": {},
   "outputs": [
    {
     "name": "stderr",
     "output_type": "stream",
     "text": [
      "2020-04-10 18:03:33,504 - > Merging connections of Urls to Studies Job is Started with 1076 edges to merge\n",
      "2020-04-10 18:03:43,066 - > Merging connections of Urls to Studies Job is Finished with 1076 edges to merged\n"
     ]
    }
   ],
   "source": [
    "neo4jBridge.merge_url_to_study_rels(drugSynonym.url_points_at_study_edges)"
   ]
  },
  {
   "cell_type": "code",
   "execution_count": null,
   "metadata": {},
   "outputs": [],
   "source": [
    "neo4jBridge.drug_or_synonym_name_and_neo4j_id_pairs[\"Sargramostim\"]"
   ]
  },
  {
   "cell_type": "code",
   "execution_count": null,
   "metadata": {},
   "outputs": [],
   "source": [
    "list(map(lambda x: x.lower().strip(),[\" A\",\"B \",\"C\"]))"
   ]
  },
  {
   "cell_type": "code",
   "execution_count": null,
   "metadata": {},
   "outputs": [],
   "source": [
    "drugSynonym._filterData()"
   ]
  },
  {
   "cell_type": "code",
   "execution_count": null,
   "metadata": {},
   "outputs": [],
   "source": [
    "temp = [\" A\",\"B \",\"C\"]\n",
    "row = \"a\"\n",
    "\n"
   ]
  },
  {
   "cell_type": "code",
   "execution_count": null,
   "metadata": {},
   "outputs": [],
   "source": [
    "list(map(lambda x: x.lower().strip(),temp))"
   ]
  },
  {
   "cell_type": "code",
   "execution_count": null,
   "metadata": {},
   "outputs": [],
   "source": [
    "list(filter(lambda x: x is not None,list(map(lambda x: x.lower().strip() if x.lower().strip() != row['Common name'].lower().strip() else None,row[\"Synonyms\"].split(\"|\")) if isinstance(row[\"Synonyms\"],str) else row[\"Synonyms\"])\n"
   ]
  },
  {
   "cell_type": "code",
   "execution_count": null,
   "metadata": {},
   "outputs": [],
   "source": [
    "list(filter(lambda x: x is not None,list(map(lambda x: x.lower().strip() if x.lower().strip() != row.lower().strip() else None,temp) ) ))"
   ]
  },
  {
   "cell_type": "code",
   "execution_count": null,
   "metadata": {},
   "outputs": [],
   "source": []
  }
 ],
 "metadata": {
  "kernelspec": {
   "display_name": "Python 3",
   "language": "python",
   "name": "python3"
  },
  "language_info": {
   "codemirror_mode": {
    "name": "ipython",
    "version": 3
   },
   "file_extension": ".py",
   "mimetype": "text/x-python",
   "name": "python",
   "nbconvert_exporter": "python",
   "pygments_lexer": "ipython3",
   "version": "3.7.6"
  }
 },
 "nbformat": 4,
 "nbformat_minor": 4
}
