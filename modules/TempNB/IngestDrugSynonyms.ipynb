{
 "cells": [
  {
   "cell_type": "code",
   "execution_count": 4,
   "metadata": {},
   "outputs": [],
   "source": [
    "from IngestDrugSynonyms import IngestDrugSynonyms"
   ]
  },
  {
   "cell_type": "code",
   "execution_count": 5,
   "metadata": {},
   "outputs": [],
   "source": [
    "import pandas as pd"
   ]
  },
  {
   "cell_type": "code",
   "execution_count": 6,
   "metadata": {},
   "outputs": [
    {
     "name": "stdout",
     "output_type": "stream",
     "text": [
      "The autoreload extension is already loaded. To reload it, use:\n",
      "  %reload_ext autoreload\n"
     ]
    }
   ],
   "source": [
    "%load_ext autoreload\n",
    "%autoreload 2"
   ]
  },
  {
   "cell_type": "code",
   "execution_count": 7,
   "metadata": {},
   "outputs": [
    {
     "data": {
      "text/html": [
       "<style>.container { width:100% !important; }</style>"
      ],
      "text/plain": [
       "<IPython.core.display.HTML object>"
      ]
     },
     "metadata": {},
     "output_type": "display_data"
    }
   ],
   "source": [
    "from IPython.core.display import display, HTML\n",
    "display(HTML(\"<style>.container { width:100% !important; }</style>\"))\n",
    "pd.set_option('display.max_colwidth', -1)\n",
    "pd.set_option('display.max_columns', 500)\n",
    "pd.set_option('display.width', 1000)"
   ]
  },
  {
   "cell_type": "code",
   "execution_count": 8,
   "metadata": {},
   "outputs": [],
   "source": [
    "drugSynonym = IngestDrugSynonyms()"
   ]
  },
  {
   "cell_type": "code",
   "execution_count": 11,
   "metadata": {},
   "outputs": [
    {
     "name": "stderr",
     "output_type": "stream",
     "text": [
      "2020-04-10 10:57:54,880 - > STARTING scraping with 'covid-19' keyword\n",
      "2020-04-10 10:57:58,961 - > 427 studies found by 'covid-19' keyword\n",
      "2020-04-10 10:58:12,226 - > STARTING scraping with 'SARS-CoV-2' keyword\n",
      "2020-04-10 10:58:15,421 - > 427 studies found by 'SARS-CoV-2' keyword\n",
      "2020-04-10 10:58:27,698 - > STARTING scraping with 'coronavirus' keyword\n",
      "2020-04-10 10:58:31,700 - > 346 studies found by 'coronavirus' keyword\n",
      "2020-04-10 10:58:48,359 - > 1076 distinct studies found\n"
     ]
    }
   ],
   "source": [
    "drugSynonym.auto_get_and_clean_data()"
   ]
  },
  {
   "cell_type": "code",
   "execution_count": 14,
   "metadata": {},
   "outputs": [],
   "source": [
    "drug_vocab = drugSynonym.drug_vocab\n",
    "drugs_and_syms:list = list(drug_vocab.keys())\n",
    "\n",
    "drugs_and_syms.extend( item for key in drug_vocab.keys() if isinstance(drug_vocab[key],list) for item in drug_vocab[key])"
   ]
  },
  {
   "cell_type": "code",
   "execution_count": 15,
   "metadata": {},
   "outputs": [
    {
     "data": {
      "text/plain": [
       "39481"
      ]
     },
     "execution_count": 15,
     "metadata": {},
     "output_type": "execute_result"
    }
   ],
   "source": [
    "len(drugs_and_syms)"
   ]
  },
  {
   "cell_type": "code",
   "execution_count": null,
   "metadata": {},
   "outputs": [],
   "source": [
    "ids_and_inte"
   ]
  },
  {
   "cell_type": "code",
   "execution_count": 16,
   "metadata": {},
   "outputs": [],
   "source": [
    "import time"
   ]
  },
  {
   "cell_type": "code",
   "execution_count": null,
   "metadata": {},
   "outputs": [],
   "source": [
    "studies = drugSynonym.all_studies_df\n",
    "appeared_in_edges:list = []\n",
    "start = time.time()\n",
    "print(start)\n",
    "count = 0\n",
    "prev = 0\n",
    "for drug in drugs_and_syms:\n",
    "    \n",
    "    for index,row in studies.iterrows():\n",
    "        if drug in row[\"intervention\"]:\n",
    "            appeared_in_edges.append((drug,row[\"trial_id\"]))\n",
    "    count += 1\n",
    "    if count > prev + 1000:\n",
    "        print(time.time())\n",
    "        print(time.time() - start)\n",
    "        prev = count\n",
    "            \n",
    "end = time.time()\n",
    "print(end - start)\n",
    "print(end)\n"
   ]
  },
  {
   "cell_type": "code",
   "execution_count": null,
   "metadata": {},
   "outputs": [],
   "source": [
    "start = time.time()\n",
    "appeared_in_edges:list = [(drug,row[\"trial_id\"]) for drug in drugs_and_syms for index,row in studies.iterrows() if drug in row[\"intervention\"]]\n",
    "end = time.time()\n",
    "print(end - start)"
   ]
  },
  {
   "cell_type": "code",
   "execution_count": null,
   "metadata": {},
   "outputs": [],
   "source": [
    "39481 * 83"
   ]
  },
  {
   "cell_type": "code",
   "execution_count": null,
   "metadata": {},
   "outputs": [],
   "source": [
    "import cudf"
   ]
  },
  {
   "cell_type": "code",
   "execution_count": null,
   "metadata": {},
   "outputs": [],
   "source": []
  }
 ],
 "metadata": {
  "kernelspec": {
   "display_name": "Python 3",
   "language": "python",
   "name": "python3"
  },
  "language_info": {
   "codemirror_mode": {
    "name": "ipython",
    "version": 3
   },
   "file_extension": ".py",
   "mimetype": "text/x-python",
   "name": "python",
   "nbconvert_exporter": "python",
   "pygments_lexer": "ipython3",
   "version": "3.7.6"
  }
 },
 "nbformat": 4,
 "nbformat_minor": 4
}
