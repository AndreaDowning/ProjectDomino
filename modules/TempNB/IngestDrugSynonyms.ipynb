{
 "cells": [
  {
   "cell_type": "code",
   "execution_count": 1,
   "metadata": {},
   "outputs": [],
   "source": [
    "\n",
    "from IngestDrugSynonyms import IngestDrugSynonyms"
   ]
  },
  {
   "cell_type": "code",
   "execution_count": 2,
   "metadata": {},
   "outputs": [],
   "source": [
    "import pandas as pd"
   ]
  },
  {
   "cell_type": "code",
   "execution_count": 3,
   "metadata": {},
   "outputs": [],
   "source": [
    "%load_ext autoreload\n",
    "%autoreload 2"
   ]
  },
  {
   "cell_type": "code",
   "execution_count": 4,
   "metadata": {},
   "outputs": [
    {
     "data": {
      "text/html": [
       "<style>.container { width:100% !important; }</style>"
      ],
      "text/plain": [
       "<IPython.core.display.HTML object>"
      ]
     },
     "metadata": {},
     "output_type": "display_data"
    },
    {
     "name": "stderr",
     "output_type": "stream",
     "text": [
      "/home/ben/Projects/Graphs4GoodHackathon/ProjectDomino/.Domino/lib/python3.7/site-packages/ipykernel_launcher.py:3: FutureWarning: Passing a negative integer is deprecated in version 1.0 and will not be supported in future version. Instead, use None to not limit the column width.\n",
      "  This is separate from the ipykernel package so we can avoid doing imports until\n"
     ]
    }
   ],
   "source": [
    "from IPython.core.display import display, HTML\n",
    "display(HTML(\"<style>.container { width:100% !important; }</style>\"))\n",
    "pd.set_option('display.max_colwidth', -1)\n",
    "pd.set_option('display.max_rows', 500)\n",
    "pd.set_option('display.max_columns', 500)\n",
    "pd.set_option('display.width', 1000)"
   ]
  },
  {
   "cell_type": "code",
   "execution_count": 5,
   "metadata": {},
   "outputs": [],
   "source": [
    "drugSynonym = IngestDrugSynonyms()"
   ]
  },
  {
   "cell_type": "code",
   "execution_count": 6,
   "metadata": {},
   "outputs": [
    {
     "name": "stderr",
     "output_type": "stream",
     "text": [
      "2020-04-08 15:41:03,144 - > 380 studies found by 'covid-19' keyword\n",
      "2020-04-08 15:41:19,323 - > 380 studies found by 'SARS-CoV-2' keyword\n",
      "2020-04-08 15:41:34,916 - > 316 studies found by 'coronavirus' keyword\n"
     ]
    }
   ],
   "source": [
    "drugSynonym.scrapeData()"
   ]
  },
  {
   "cell_type": "code",
   "execution_count": 7,
   "metadata": {},
   "outputs": [],
   "source": [
    "drugSynonym.filterData()"
   ]
  },
  {
   "cell_type": "code",
   "execution_count": 8,
   "metadata": {},
   "outputs": [
    {
     "data": {
      "text/html": [
       "<div>\n",
       "<style scoped>\n",
       "    .dataframe tbody tr th:only-of-type {\n",
       "        vertical-align: middle;\n",
       "    }\n",
       "\n",
       "    .dataframe tbody tr th {\n",
       "        vertical-align: top;\n",
       "    }\n",
       "\n",
       "    .dataframe thead th {\n",
       "        text-align: right;\n",
       "    }\n",
       "</style>\n",
       "<table border=\"1\" class=\"dataframe\">\n",
       "  <thead>\n",
       "    <tr style=\"text-align: right;\">\n",
       "      <th></th>\n",
       "      <th>Common name</th>\n",
       "      <th>Synonyms</th>\n",
       "    </tr>\n",
       "  </thead>\n",
       "  <tbody>\n",
       "    <tr>\n",
       "      <th>0</th>\n",
       "      <td>Lepirudin</td>\n",
       "      <td>Hirudin variant-1 | Lepirudin recombinant</td>\n",
       "    </tr>\n",
       "    <tr>\n",
       "      <th>1</th>\n",
       "      <td>Cetuximab</td>\n",
       "      <td>Cetuximab | Cétuximab | Cetuximabum | Immunoglobulin G 1 (human-mouse monoclonal C 225 gamma 1 - chain anti-human epidermal growt factor receptor), disulfide wit human-mouse monoclonal C 225 kappa - chain, dimer</td>\n",
       "    </tr>\n",
       "    <tr>\n",
       "      <th>2</th>\n",
       "      <td>Dornase alfa</td>\n",
       "      <td>Deoxyribonuclease (human clone 18-1 protein moiety) | Dornasa alfa | Dornase alfa, recombinant | Dornase alpha | Recombinant deoxyribonuclease (DNAse)</td>\n",
       "    </tr>\n",
       "    <tr>\n",
       "      <th>3</th>\n",
       "      <td>Denileukin diftitox</td>\n",
       "      <td>Denileukin | Interleukin-2/diptheria toxin fusion protein</td>\n",
       "    </tr>\n",
       "    <tr>\n",
       "      <th>4</th>\n",
       "      <td>Etanercept</td>\n",
       "      <td>Etanercept | etanercept-szzs | etanercept-ykro | Recombinant human TNF | rhu TNFR:Fc | rhu-TNFR:Fc | TNFR-Immunoadhesin</td>\n",
       "    </tr>\n",
       "  </tbody>\n",
       "</table>\n",
       "</div>"
      ],
      "text/plain": [
       "           Common name                                                                                                                                                                                                             Synonyms\n",
       "0  Lepirudin            Hirudin variant-1 | Lepirudin recombinant                                                                                                                                                                          \n",
       "1  Cetuximab            Cetuximab | Cétuximab | Cetuximabum | Immunoglobulin G 1 (human-mouse monoclonal C 225 gamma 1 - chain anti-human epidermal growt factor receptor), disulfide wit human-mouse monoclonal C 225 kappa - chain, dimer\n",
       "2  Dornase alfa         Deoxyribonuclease (human clone 18-1 protein moiety) | Dornasa alfa | Dornase alfa, recombinant | Dornase alpha | Recombinant deoxyribonuclease (DNAse)                                                             \n",
       "3  Denileukin diftitox  Denileukin | Interleukin-2/diptheria toxin fusion protein                                                                                                                                                          \n",
       "4  Etanercept           Etanercept | etanercept-szzs | etanercept-ykro | Recombinant human TNF | rhu TNFR:Fc | rhu-TNFR:Fc | TNFR-Immunoadhesin                                                                                            "
      ]
     },
     "execution_count": 8,
     "metadata": {},
     "output_type": "execute_result"
    }
   ],
   "source": [
    "drugSynonym.drug_vocab_reduced.head()"
   ]
  },
  {
   "cell_type": "code",
   "execution_count": 9,
   "metadata": {},
   "outputs": [
    {
     "data": {
      "text/plain": [
       "13475"
      ]
     },
     "execution_count": 9,
     "metadata": {},
     "output_type": "execute_result"
    }
   ],
   "source": [
    "len(drugSynonym.drug_vocab)"
   ]
  },
  {
   "cell_type": "code",
   "execution_count": 10,
   "metadata": {},
   "outputs": [
    {
     "data": {
      "text/plain": [
       "Index(['TrialID', 'Last Refreshed on', 'Public title', 'Scientific title', 'Acronym', 'Primary sponsor', 'Date registration', 'Date registration3', 'Export date', 'Source Register', 'web address', 'Recruitment Status', 'other records', 'Inclusion agemin', 'Inclusion agemax', 'Inclusion gender', 'Date enrollement', 'Target size', 'Study type', 'Study design', 'Phase', 'Countries', 'Contact Firstname', 'Contact Lastname', 'Contact Address', 'Contact Email', 'Contact Tel', 'Contact Affiliation', 'Inclusion Criteria', 'Exclusion Criteria', 'Condition', 'Intervention', 'Primary outcome', 'results date posted', 'results date completed', 'results url link', 'Retrospective flag', 'Bridging flag truefalse', 'Bridged type', 'results yes no'], dtype='object')"
      ]
     },
     "execution_count": 10,
     "metadata": {},
     "output_type": "execute_result"
    }
   ],
   "source": [
    "drugSynonym.internationalstudies.columns"
   ]
  },
  {
   "cell_type": "code",
   "execution_count": 11,
   "metadata": {},
   "outputs": [],
   "source": [
    "internationalstudies = drugSynonym.internationalstudies[['TrialID', 'Intervention','Study type']]"
   ]
  },
  {
   "cell_type": "code",
   "execution_count": 12,
   "metadata": {},
   "outputs": [
    {
     "data": {
      "text/html": [
       "<div>\n",
       "<style scoped>\n",
       "    .dataframe tbody tr th:only-of-type {\n",
       "        vertical-align: middle;\n",
       "    }\n",
       "\n",
       "    .dataframe tbody tr th {\n",
       "        vertical-align: top;\n",
       "    }\n",
       "\n",
       "    .dataframe thead th {\n",
       "        text-align: right;\n",
       "    }\n",
       "</style>\n",
       "<table border=\"1\" class=\"dataframe\">\n",
       "  <thead>\n",
       "    <tr style=\"text-align: right;\">\n",
       "      <th></th>\n",
       "      <th>TrialID</th>\n",
       "      <th>Intervention</th>\n",
       "      <th>Study type</th>\n",
       "    </tr>\n",
       "  </thead>\n",
       "  <tbody>\n",
       "    <tr>\n",
       "      <th>0</th>\n",
       "      <td>ChiCTR2000029953</td>\n",
       "      <td>survival group:none;died:none;</td>\n",
       "      <td>Observational study</td>\n",
       "    </tr>\n",
       "    <tr>\n",
       "      <th>1</th>\n",
       "      <td>ChiCTR2000029935</td>\n",
       "      <td>Case series:Treated with conventional treatment combined with Chloroquine Phosphate;</td>\n",
       "      <td>Interventional study</td>\n",
       "    </tr>\n",
       "    <tr>\n",
       "      <th>2</th>\n",
       "      <td>ChiCTR2000029850</td>\n",
       "      <td>experimental group:standardized comprehensive treatment combined with convalescent plasma treatment;control group:standardized comprehensive treatment;</td>\n",
       "      <td>Interventional study</td>\n",
       "    </tr>\n",
       "    <tr>\n",
       "      <th>3</th>\n",
       "      <td>ChiCTR2000029814</td>\n",
       "      <td>control group:Western Medicine;experimental group:Integrated Traditional Chinese and Western Medicine;</td>\n",
       "      <td>Interventional study</td>\n",
       "    </tr>\n",
       "    <tr>\n",
       "      <th>4</th>\n",
       "      <td>NCT04245631</td>\n",
       "      <td>Diagnostic Test: Recombinase aided amplification (RAA) assay</td>\n",
       "      <td>Observational</td>\n",
       "    </tr>\n",
       "  </tbody>\n",
       "</table>\n",
       "</div>"
      ],
      "text/plain": [
       "            TrialID                                                                                                                                             Intervention            Study type\n",
       "0  ChiCTR2000029953  survival group:none;died:none;                                                                                                                           Observational study \n",
       "1  ChiCTR2000029935  Case series:Treated with conventional treatment combined with Chloroquine Phosphate;                                                                     Interventional study\n",
       "2  ChiCTR2000029850  experimental group:standardized comprehensive treatment combined with convalescent plasma treatment;control group:standardized comprehensive treatment;  Interventional study\n",
       "3  ChiCTR2000029814  control group:Western Medicine;experimental group:Integrated Traditional Chinese and Western Medicine;                                                   Interventional study\n",
       "4  NCT04245631       Diagnostic Test: Recombinase aided amplification (RAA) assay                                                                                             Observational       "
      ]
     },
     "execution_count": 12,
     "metadata": {},
     "output_type": "execute_result"
    }
   ],
   "source": [
    "internationalstudies.head()"
   ]
  },
  {
   "cell_type": "code",
   "execution_count": 13,
   "metadata": {},
   "outputs": [
    {
     "name": "stderr",
     "output_type": "stream",
     "text": [
      "/home/ben/Projects/Graphs4GoodHackathon/ProjectDomino/.Domino/lib/python3.7/site-packages/pandas/core/indexing.py:1048: SettingWithCopyWarning: \n",
      "A value is trying to be set on a copy of a slice from a DataFrame.\n",
      "Try using .loc[row_indexer,col_indexer] = value instead\n",
      "\n",
      "See the caveats in the documentation: https://pandas.pydata.org/pandas-docs/stable/user_guide/indexing.html#returning-a-view-versus-a-copy\n",
      "  self.obj[item_labels[indexer[info_axis]]] = value\n"
     ]
    },
    {
     "data": {
      "text/html": [
       "<div>\n",
       "<style scoped>\n",
       "    .dataframe tbody tr th:only-of-type {\n",
       "        vertical-align: middle;\n",
       "    }\n",
       "\n",
       "    .dataframe tbody tr th {\n",
       "        vertical-align: top;\n",
       "    }\n",
       "\n",
       "    .dataframe thead th {\n",
       "        text-align: right;\n",
       "    }\n",
       "</style>\n",
       "<table border=\"1\" class=\"dataframe\">\n",
       "  <thead>\n",
       "    <tr style=\"text-align: right;\">\n",
       "      <th></th>\n",
       "      <th>TrialID</th>\n",
       "      <th>Intervention</th>\n",
       "      <th>Study type</th>\n",
       "    </tr>\n",
       "  </thead>\n",
       "  <tbody>\n",
       "    <tr>\n",
       "      <th>0</th>\n",
       "      <td>ChiCTR2000029953</td>\n",
       "      <td>survival group:none;died:none;</td>\n",
       "      <td>observational study</td>\n",
       "    </tr>\n",
       "    <tr>\n",
       "      <th>1</th>\n",
       "      <td>ChiCTR2000029935</td>\n",
       "      <td>Case series:Treated with conventional treatment combined with Chloroquine Phosphate;</td>\n",
       "      <td>interventional study</td>\n",
       "    </tr>\n",
       "    <tr>\n",
       "      <th>2</th>\n",
       "      <td>ChiCTR2000029850</td>\n",
       "      <td>experimental group:standardized comprehensive treatment combined with convalescent plasma treatment;control group:standardized comprehensive treatment;</td>\n",
       "      <td>interventional study</td>\n",
       "    </tr>\n",
       "    <tr>\n",
       "      <th>3</th>\n",
       "      <td>ChiCTR2000029814</td>\n",
       "      <td>control group:Western Medicine;experimental group:Integrated Traditional Chinese and Western Medicine;</td>\n",
       "      <td>interventional study</td>\n",
       "    </tr>\n",
       "    <tr>\n",
       "      <th>4</th>\n",
       "      <td>NCT04245631</td>\n",
       "      <td>Diagnostic Test: Recombinase aided amplification (RAA) assay</td>\n",
       "      <td>observational</td>\n",
       "    </tr>\n",
       "  </tbody>\n",
       "</table>\n",
       "</div>"
      ],
      "text/plain": [
       "            TrialID                                                                                                                                             Intervention            Study type\n",
       "0  ChiCTR2000029953  survival group:none;died:none;                                                                                                                           observational study \n",
       "1  ChiCTR2000029935  Case series:Treated with conventional treatment combined with Chloroquine Phosphate;                                                                     interventional study\n",
       "2  ChiCTR2000029850  experimental group:standardized comprehensive treatment combined with convalescent plasma treatment;control group:standardized comprehensive treatment;  interventional study\n",
       "3  ChiCTR2000029814  control group:Western Medicine;experimental group:Integrated Traditional Chinese and Western Medicine;                                                   interventional study\n",
       "4  NCT04245631       Diagnostic Test: Recombinase aided amplification (RAA) assay                                                                                             observational       "
      ]
     },
     "execution_count": 13,
     "metadata": {},
     "output_type": "execute_result"
    }
   ],
   "source": [
    "internationalstudies.loc[:,'Study type'] = internationalstudies['Study type'].str.lower()\n",
    "internationalstudies.head()"
   ]
  },
  {
   "cell_type": "code",
   "execution_count": 14,
   "metadata": {},
   "outputs": [
    {
     "data": {
      "text/plain": [
       "779"
      ]
     },
     "execution_count": 14,
     "metadata": {},
     "output_type": "execute_result"
    }
   ],
   "source": [
    "len(internationalstudies)"
   ]
  },
  {
   "cell_type": "code",
   "execution_count": 15,
   "metadata": {},
   "outputs": [],
   "source": [
    "filtered_int_studies = internationalstudies[internationalstudies['Study type'].str.contains(\"intervention\")]"
   ]
  },
  {
   "cell_type": "code",
   "execution_count": 16,
   "metadata": {},
   "outputs": [
    {
     "data": {
      "text/plain": [
       "437"
      ]
     },
     "execution_count": 16,
     "metadata": {},
     "output_type": "execute_result"
    }
   ],
   "source": [
    "len(filtered_int_studies)"
   ]
  },
  {
   "cell_type": "code",
   "execution_count": 18,
   "metadata": {},
   "outputs": [],
   "source": [
    "remainig_int_studies = internationalstudies[internationalstudies['Study type'].str.contains(\"intervention\")]"
   ]
  },
  {
   "cell_type": "code",
   "execution_count": 19,
   "metadata": {},
   "outputs": [],
   "source": [
    "US_studies = drugSynonym.all_US_studies_by_keyword"
   ]
  },
  {
   "cell_type": "code",
   "execution_count": 39,
   "metadata": {},
   "outputs": [],
   "source": [
    "NCT_ids:list = []\n",
    "for key in US_studies.keys():\n",
    "    for study in US_studies[key]:\n",
    "        NCT_ids.append(study[\"Study\"][\"ProtocolSection\"][\"IdentificationModule\"][\"NCTId\"])"
   ]
  },
  {
   "cell_type": "code",
   "execution_count": 40,
   "metadata": {},
   "outputs": [
    {
     "data": {
      "text/plain": [
       "1076"
      ]
     },
     "execution_count": 40,
     "metadata": {},
     "output_type": "execute_result"
    }
   ],
   "source": [
    "len(NCT_ids)"
   ]
  },
  {
   "cell_type": "code",
   "execution_count": 41,
   "metadata": {},
   "outputs": [
    {
     "data": {
      "text/plain": [
       "437"
      ]
     },
     "execution_count": 41,
     "metadata": {},
     "output_type": "execute_result"
    }
   ],
   "source": [
    "len(list(set(NCT_ids)))"
   ]
  },
  {
   "cell_type": "code",
   "execution_count": 42,
   "metadata": {},
   "outputs": [],
   "source": [
    "trial_ids:list = list(internationalstudies[\"TrialID\"])"
   ]
  },
  {
   "cell_type": "code",
   "execution_count": 43,
   "metadata": {},
   "outputs": [
    {
     "data": {
      "text/plain": [
       "779"
      ]
     },
     "execution_count": 43,
     "metadata": {},
     "output_type": "execute_result"
    }
   ],
   "source": [
    "len(trial_ids)"
   ]
  },
  {
   "cell_type": "code",
   "execution_count": 44,
   "metadata": {},
   "outputs": [
    {
     "data": {
      "text/plain": [
       "779"
      ]
     },
     "execution_count": 44,
     "metadata": {},
     "output_type": "execute_result"
    }
   ],
   "source": [
    "len(list(set(trial_ids)))"
   ]
  },
  {
   "cell_type": "code",
   "execution_count": 45,
   "metadata": {},
   "outputs": [],
   "source": [
    "all_ids = trial_ids[:]\n",
    "all_ids.extend(NCT_ids)"
   ]
  },
  {
   "cell_type": "code",
   "execution_count": 46,
   "metadata": {},
   "outputs": [
    {
     "data": {
      "text/plain": [
       "1855"
      ]
     },
     "execution_count": 46,
     "metadata": {},
     "output_type": "execute_result"
    }
   ],
   "source": [
    "len(all_ids)"
   ]
  },
  {
   "cell_type": "code",
   "execution_count": 48,
   "metadata": {},
   "outputs": [
    {
     "data": {
      "text/plain": [
       "-189"
      ]
     },
     "execution_count": 48,
     "metadata": {},
     "output_type": "execute_result"
    }
   ],
   "source": [
    "len(list(set(all_ids))) - (len(list(set(trial_ids))) + len(list(set(NCT_ids))))"
   ]
  },
  {
   "cell_type": "code",
   "execution_count": null,
   "metadata": {},
   "outputs": [],
   "source": []
  }
 ],
 "metadata": {
  "kernelspec": {
   "display_name": "Python 3",
   "language": "python",
   "name": "python3"
  },
  "language_info": {
   "codemirror_mode": {
    "name": "ipython",
    "version": 3
   },
   "file_extension": ".py",
   "mimetype": "text/x-python",
   "name": "python",
   "nbconvert_exporter": "python",
   "pygments_lexer": "ipython3",
   "version": "3.7.7"
  }
 },
 "nbformat": 4,
 "nbformat_minor": 4
}
